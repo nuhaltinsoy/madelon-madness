{
 "cells": [
  {
   "cell_type": "markdown",
   "metadata": {},
   "source": [
    "<img src=\"http://imgur.com/1ZcRyrc.png\" style=\"float: left; margin: 20px; height: 55px\">\n",
    "\n",
    "# Project 3: Madelon: 3-ROC-AUC & f_classif\n",
    "\n",
    "_Authors: Blake Cannon (DEN)_\n",
    "\n",
    "---\n",
    "MADELON is an artificial dataset, which was part of the NIPS 2003 feature selection challenge. This is a two-class classification problem with continuous input variables. The difficulty is that the problem is multivariate and highly non-linear. Among 500 attributes, only 20 are informative, the rest are noise.\n",
    "\n",
    "### Notebook 2\n",
    "\n",
    "This is the third in a series of Jupyter Notebooks and uses ROC-AUC and `f_classif` to try and solve the Madelon problem."
   ]
  },
  {
   "cell_type": "markdown",
   "metadata": {},
   "source": [
    "## Import packages"
   ]
  },
  {
   "cell_type": "code",
   "execution_count": 1,
   "metadata": {
    "collapsed": true
   },
   "outputs": [],
   "source": [
    "import numpy as np\n",
    "\n",
    "import matplotlib.pyplot as plt\n",
    "import matplotlib as mpl\n",
    "import seaborn as sns\n",
    "sns.set_style('darkgrid')\n",
    "%matplotlib inline"
   ]
  },
  {
   "cell_type": "markdown",
   "metadata": {},
   "source": [
    "## Load Pickles"
   ]
  },
  {
   "cell_type": "code",
   "execution_count": 2,
   "metadata": {
    "collapsed": true
   },
   "outputs": [],
   "source": [
    "# Loading the data saved from the last notebook\n",
    "X_train = np.load('./_data/X_train.npy')\n",
    "y_train = np.load('./_data/y_train.npy')\n",
    "X_val = np.load('./_data/X_val.npy')\n",
    "y_val = np.load('./_data/y_val.npy')\n",
    "X_test = np.load('./_data/X_test.npy')"
   ]
  },
  {
   "cell_type": "markdown",
   "metadata": {},
   "source": [
    "## Area Under the Curve (AUC)\n",
    "\n",
    "We'll use `roc_auc_score` from `sklearn.metrics` to measure the rate of positives vs negatives as the first benchmark.\n",
    "\n",
    "A completly random selection would be a baseline of 0.5."
   ]
  },
  {
   "cell_type": "code",
   "execution_count": 3,
   "metadata": {
    "collapsed": true
   },
   "outputs": [],
   "source": [
    "from sklearn.linear_model import LogisticRegression\n",
    "from sklearn.metrics import roc_auc_score"
   ]
  },
  {
   "cell_type": "code",
   "execution_count": 4,
   "metadata": {},
   "outputs": [
    {
     "data": {
      "text/plain": [
       "LogisticRegression(C=1.0, class_weight=None, dual=False, fit_intercept=True,\n",
       "          intercept_scaling=1, max_iter=100, multi_class='ovr', n_jobs=1,\n",
       "          penalty='l2', random_state=None, solver='liblinear', tol=0.0001,\n",
       "          verbose=0, warm_start=False)"
      ]
     },
     "execution_count": 4,
     "metadata": {},
     "output_type": "execute_result"
    }
   ],
   "source": [
    "# Instatiate and fit the logistic regression model\n",
    "logr = LogisticRegression()\n",
    "logr.fit(X_train,y_train)"
   ]
  },
  {
   "cell_type": "code",
   "execution_count": 5,
   "metadata": {},
   "outputs": [
    {
     "name": "stdout",
     "output_type": "stream",
     "text": [
      "(2000, 2)\n"
     ]
    },
    {
     "data": {
      "text/plain": [
       "array([[ 0.36103151,  0.63896849],\n",
       "       [ 0.46582704,  0.53417296],\n",
       "       [ 0.70241725,  0.29758275],\n",
       "       ..., \n",
       "       [ 0.67524771,  0.32475229],\n",
       "       [ 0.47564307,  0.52435693],\n",
       "       [ 0.29721952,  0.70278048]])"
      ]
     },
     "execution_count": 5,
     "metadata": {},
     "output_type": "execute_result"
    }
   ],
   "source": [
    "print(logr.predict_proba(X_train).shape)\n",
    "logr.predict_proba(X_train)"
   ]
  },
  {
   "cell_type": "code",
   "execution_count": 6,
   "metadata": {},
   "outputs": [
    {
     "name": "stdout",
     "output_type": "stream",
     "text": [
      "(2000,)\n"
     ]
    },
    {
     "data": {
      "text/plain": [
       "array([ 0.63896849,  0.53417296,  0.29758275, ...,  0.32475229,\n",
       "        0.52435693,  0.70278048])"
      ]
     },
     "execution_count": 6,
     "metadata": {},
     "output_type": "execute_result"
    }
   ],
   "source": [
    "# Print shape of the X_Train\n",
    "print(logr.predict_proba(X_train)[:,1].shape)\n",
    "logr.predict_proba(X_train)[:,1]"
   ]
  },
  {
   "cell_type": "code",
   "execution_count": 7,
   "metadata": {},
   "outputs": [
    {
     "data": {
      "text/plain": [
       "0.8244260000000001"
      ]
     },
     "execution_count": 7,
     "metadata": {},
     "output_type": "execute_result"
    }
   ],
   "source": [
    "# Find the ROC/AUC on one column of the logistic regression predict_proba on the training dataset\n",
    "roc_auc_score(y_train,logr.predict_proba(X_train)[:,1])"
   ]
  },
  {
   "cell_type": "code",
   "execution_count": 8,
   "metadata": {},
   "outputs": [
    {
     "data": {
      "text/plain": [
       "0.60188888888888881"
      ]
     },
     "execution_count": 8,
     "metadata": {},
     "output_type": "execute_result"
    }
   ],
   "source": [
    "# Find the AUC on one column of the logistic regression predict_proba on the validation dataset\n",
    "roc_auc_score(y_val,logr.predict_proba(X_val)[:,1])"
   ]
  },
  {
   "cell_type": "markdown",
   "metadata": {
    "collapsed": true
   },
   "source": [
    "A baseline of 0.602 is not very good considering random guessing should give us a score of 0.5. Note that the score of 0.824 on the training set is **overfit**.\n",
    "\n",
    "The Madelon dataset has a massive amount of unimportant features. We know this because of the difference between the ROC-AUC score differences above (0.602:validation vs 0.824:train). So, we need to remove these unimportant features (feature selection) so we can create a better model.\n",
    "\n",
    "I chose the `f_class` test because it tests differences among classes.\n",
    "\n",
    "---\n",
    "\n",
    "## Feature Selection Using f_classif\n",
    "\n",
    "In order to find the optimal features in the Madelon dataset we'll run a `f_classif` test from the `sklearn` package. Other testing methods are available, but this is a classification problem and `f_class` is specifically designed for this type of problem.\n",
    "\n",
    ">**What are F-statistics and the F-test?**\n",
    "\n",
    ">F-tests are named after its test statistic, F, which was named in honor of Sir Ronald Fisher. The F-statistic is simply a ratio of two variances. Variances are a measure of dispersion, or how far the data are scattered from the mean. Larger values represent greater dispersion.\n",
    "\n",
    ">F is for F-test\n",
    ">Variance is the square of the standard deviation. For us humans, standard deviations are easier to understand than variances because they’re in the same units as the data rather than squared units. However, many analyses actually use variances in the calculations.\n",
    "\n",
    ">F-statistics are based on the ratio of mean squares. The term “mean squares” may sound confusing but it is simply an estimate of population variance that accounts for the degrees of freedom (DF) used to calculate that estimate.\n",
    "\n",
    ">Despite being a ratio of variances, you can use F-tests in a wide variety of situations. Unsurprisingly, the F-test can assess the equality of variances. However, by changing the variances that are included in the ratio, the F-test becomes a very flexible test. For example, you can use F-statistics and F-tests to test the overall significance for a regression model, to compare the fits of different models, to test specific regression terms, and to test the equality of means.\n",
    "\n",
    ">To use the F-test to determine whether group means are equal, it’s just a matter of including the correct variances in the ratio. In one-way ANOVA, the F-statistic is this ratio:\n",
    "\n",
    ">**F = variation between sample means / variation within the samples**\n",
    "\n",
    ">-The Minitab Blog [1]\n",
    "\n",
    "[1]: http://blog.minitab.com/blog/adventures-in-statistics-2/understanding-analysis-of-variance-anova-and-the-f-test\n",
    "\n",
    "The test will return a p-value. As with p-values, a small p-value (p < 0.05) would indicate whether or not a feature is relative or irrelative.\n",
    "\n",
    "We'll combine `sklearn`'s `f_classif` and `SelectPercentile` to compute the ANOVA f-value, p-values, and choose a certain percentage of relevant features. "
   ]
  },
  {
   "cell_type": "code",
   "execution_count": 9,
   "metadata": {
    "collapsed": true
   },
   "outputs": [],
   "source": [
    "from sklearn.feature_selection import f_classif, SelectPercentile\n",
    "from sklearn.preprocessing import PolynomialFeatures"
   ]
  },
  {
   "cell_type": "code",
   "execution_count": 10,
   "metadata": {
    "scrolled": false
   },
   "outputs": [
    {
     "data": {
      "text/plain": [
       "SelectPercentile(percentile=50,\n",
       "         score_func=<function f_classif at 0x10fcbcc80>)"
      ]
     },
     "execution_count": 10,
     "metadata": {},
     "output_type": "execute_result"
    }
   ],
   "source": [
    "# Set up feature selection by selecting most relative 50 percent of features\n",
    "select_feature = SelectPercentile(f_classif, percentile=50)\n",
    "# Fit the feature selection model\n",
    "select_feature.fit(X_train,y_train)"
   ]
  },
  {
   "cell_type": "markdown",
   "metadata": {},
   "source": [
    "Since this is a **classification** problem. we'll use the `SelectPercentile` function to select a percentage of features that score high."
   ]
  },
  {
   "cell_type": "code",
   "execution_count": 11,
   "metadata": {},
   "outputs": [
    {
     "data": {
      "image/png": "[encoded data removed]",
      "text/plain": [
       "<matplotlib.figure.Figure at 0x1047c2c18>"
      ]
     },
     "metadata": {},
     "output_type": "display_data"
    }
   ],
   "source": [
    "# Now we'll make an array of booleans for those upper 50 percent of features\n",
    "feature_filter = select_feature.get_support()\n",
    "\n",
    "# Plot the filter results\n",
    "sns.countplot(feature_filter)\n",
    "plt.title('Features Filtered')\n",
    "plt.savefig('./_assets/3-1-feature-filter')\n",
    "plt.show()"
   ]
  },
  {
   "cell_type": "code",
   "execution_count": 12,
   "metadata": {
    "scrolled": false
   },
   "outputs": [
    {
     "name": "stdout",
     "output_type": "stream",
     "text": [
      "f_classif p-values mean: 0.471989720132\n"
     ]
    },
    {
     "data": {
      "image/png": "[encoded data removed]",
      "text/plain": [
       "<matplotlib.figure.Figure at 0x104879438>"
      ]
     },
     "metadata": {},
     "output_type": "display_data"
    }
   ],
   "source": [
    "# Here is the mean and array of f_classif p-values of the features\n",
    "print('f_classif p-values mean:', select_feature.pvalues_.mean())\n",
    "\n",
    "# Plot histogram of p-value scores\n",
    "sns.distplot(select_feature.pvalues_, kde=False)\n",
    "plt.axvline(.05, linestyle='dashed', label='p-val of 0.05', color='g')\n",
    "plt.axvline(select_feature.pvalues_.mean(), label='mean', linestyle='dashed', color='r')\n",
    "plt.title('Histogram of p-value scores')\n",
    "plt.legend()\n",
    "plt.savefig('./_assets/3-2-hist-pvals')\n",
    "plt.show()"
   ]
  },
  {
   "cell_type": "code",
   "execution_count": 13,
   "metadata": {
    "scrolled": false
   },
   "outputs": [
    {
     "name": "stdout",
     "output_type": "stream",
     "text": [
      "f_classif scores mean: 2.10801794996\n"
     ]
    },
    {
     "data": {
      "image/png": "[encoded data removed]",
      "text/plain": [
       "<matplotlib.figure.Figure at 0x10ff07b00>"
      ]
     },
     "metadata": {},
     "output_type": "display_data"
    }
   ],
   "source": [
    "# Here is the mean and array of f_classif scores of the features\n",
    "print('f_classif scores mean:', select_feature.scores_.mean())\n",
    "\n",
    "# Plot histogram of f_classif scores\n",
    "sns.distplot(select_feature.scores_, kde=False)\n",
    "plt.axvline(select_feature.scores_.mean(), label='mean', linestyle='dashed', color='r')\n",
    "plt.title('Histogram of f_classif feature scores')\n",
    "plt.legend()\n",
    "plt.savefig('./_assets/3-3-hist-f_classif-scores')\n",
    "plt.show()"
   ]
  },
  {
   "cell_type": "markdown",
   "metadata": {},
   "source": [
    "The of the `select_feature.scores_` is 2.11 and the mean of the `select_feature.pvalues_` is 0.47. This once again shows us that there is a high amount of unimportant features. This same information can clearly be seen in the two histograms. \n",
    "\n",
    "The histogram of `select_feature.pvalues_` also shows how many unimportant features there are. The green dashed line on the histogram represents the typical p-value cutoff of 0.05, and the red dashed line is the mean. We can see with this high mean and distribution of p-scores greater than 0.05. A small p-value (less than 0.05) would indicate thata certain feature was useful in predicting the target\n",
    "\n",
    "The histogram of `select_feature.scores_` indicates that most of the scores are very close to zero. There are a handful of high ranking scores but they are so low in appearance that they can't really be seen on the histogram. We really only know these high scores exist because of the extent of the x-axis.\n",
    "\n",
    "Next, we'll create a **threshold** and use to pick which features are important."
   ]
  },
  {
   "cell_type": "code",
   "execution_count": 14,
   "metadata": {},
   "outputs": [
    {
     "name": "stdout",
     "output_type": "stream",
     "text": [
      "Number of filtered features: 13\n",
      "Number of un-filtered features: 487\n"
     ]
    },
    {
     "data": {
      "image/png": "[encoded data removed]",
      "text/plain": [
       "<matplotlib.figure.Figure at 0x10ff98588>"
      ]
     },
     "metadata": {},
     "output_type": "display_data"
    }
   ],
   "source": [
    "# Create array of booleans of features with scores greater than 10\n",
    "feature_filter = select_feature.scores_ > 10\n",
    "\n",
    "# Print sum of 'True' in feature_filter\n",
    "print('Number of filtered features:', np.sum(feature_filter))\n",
    "print('Number of un-filtered features:', len(feature_filter) - np.sum(feature_filter))\n",
    "\n",
    "# Plot the filter results\n",
    "sns.countplot(feature_filter)\n",
    "plt.title('Features Filtered by Threshold')    \n",
    "plt.savefig('./_assets/3-4-feature-filter-threshold')\n",
    "plt.show()"
   ]
  },
  {
   "cell_type": "code",
   "execution_count": 15,
   "metadata": {},
   "outputs": [
    {
     "name": "stdout",
     "output_type": "stream",
     "text": [
      "No of features and their interactions: 92\n"
     ]
    }
   ],
   "source": [
    "# Generate a new feature matrix consisting of all polynomial combinations of\n",
    "# the features with degrees less than or equal to 2\n",
    "interactions = PolynomialFeatures(degree=2, interaction_only=True)\n",
    "X_interactions = interactions.fit_transform(X_train[:,feature_filter])\n",
    "print('No of features and their interactions:', X_interactions.shape[1])"
   ]
  },
  {
   "cell_type": "code",
   "execution_count": 16,
   "metadata": {},
   "outputs": [
    {
     "data": {
      "text/plain": [
       "0.80815555555555563"
      ]
     },
     "execution_count": 16,
     "metadata": {},
     "output_type": "execute_result"
    }
   ],
   "source": [
    "# Fit_transform to see if there's any relationships in the model\n",
    "logr.fit(X_interactions, y_train)\n",
    "X_val_filtered = interactions.fit_transform(X_val[:,feature_filter])\n",
    "# Print validation score on the filtered X\n",
    "roc_auc_score(y_val, logr.predict_proba(X_val_filtered)[:,1])"
   ]
  },
  {
   "cell_type": "markdown",
   "metadata": {},
   "source": [
    "The ROC/AUC score of 0.808 is just slightly below the original *overfit* score of 0.824 on the training dataset. Thus, it seems that using `p_classif` as a feature selection could be valid because the lower score would mean it's not overfitting but also doing a good job at solving the madelon problem."
   ]
  },
  {
   "cell_type": "code",
   "execution_count": 17,
   "metadata": {
    "scrolled": true
   },
   "outputs": [
    {
     "data": {
      "text/plain": [
       "array([False, False, False, False, False, False, False, False, False,\n",
       "       False, False, False, False, False, False, False, False, False,\n",
       "       False, False, False, False, False, False, False, False, False,\n",
       "       False, False, False, False, False, False, False, False, False,\n",
       "       False, False, False, False, False, False, False, False, False,\n",
       "       False, False, False,  True, False, False, False, False, False,\n",
       "       False, False, False, False, False, False, False, False, False,\n",
       "       False,  True, False, False, False, False, False, False, False,\n",
       "       False, False, False, False, False, False, False, False, False,\n",
       "       False, False, False, False, False, False, False, False, False,\n",
       "       False, False, False, False, False, False, False, False, False,\n",
       "       False, False, False, False, False, False,  True, False, False,\n",
       "       False, False, False, False, False, False, False, False, False,\n",
       "       False, False, False, False, False, False, False, False, False,\n",
       "       False, False,  True, False, False, False, False, False, False,\n",
       "       False, False, False, False, False, False, False, False, False,\n",
       "       False, False, False, False, False, False, False, False, False,\n",
       "       False, False, False, False, False, False, False, False, False,\n",
       "       False, False, False, False, False, False, False, False, False,\n",
       "       False, False, False, False, False, False, False, False, False,\n",
       "       False, False, False, False, False, False, False, False, False,\n",
       "       False, False, False, False, False, False, False, False, False,\n",
       "       False, False, False, False, False, False, False, False, False,\n",
       "       False, False, False, False, False, False, False, False, False,\n",
       "       False, False, False, False, False, False, False, False, False,\n",
       "       False, False, False, False, False, False, False, False, False,\n",
       "       False, False, False, False, False, False, False,  True, False,\n",
       "       False, False, False, False, False, False, False, False, False,\n",
       "       False, False, False, False, False, False, False, False, False,\n",
       "       False, False, False, False, False, False, False, False, False,\n",
       "       False, False, False, False, False, False, False, False, False,\n",
       "       False, False, False, False, False, False, False, False, False,\n",
       "       False, False, False, False, False, False, False, False, False,\n",
       "       False, False, False, False, False, False, False, False, False,\n",
       "       False, False, False, False, False, False, False, False, False,\n",
       "       False, False, False, False, False, False, False, False, False,\n",
       "       False, False, False, False, False, False, False, False, False,\n",
       "       False, False, False,  True, False,  True, False, False, False,\n",
       "       False, False, False, False, False, False, False, False, False,\n",
       "       False, False, False, False, False, False, False, False, False,\n",
       "       False, False, False, False, False, False, False, False, False,\n",
       "       False, False, False, False, False, False, False, False, False,\n",
       "        True, False, False, False, False, False, False, False, False,\n",
       "       False, False, False, False, False, False, False, False, False,\n",
       "       False, False, False, False, False, False, False, False, False,\n",
       "       False, False, False, False, False, False, False, False, False,\n",
       "       False, False, False, False, False, False, False, False, False,\n",
       "       False, False, False, False, False, False, False, False, False,\n",
       "       False, False, False, False, False, False, False, False, False,\n",
       "       False,  True, False, False, False, False, False, False, False,\n",
       "       False, False, False,  True, False, False, False, False, False,\n",
       "       False, False, False, False, False, False, False, False, False,\n",
       "       False, False, False, False,  True, False, False,  True, False,\n",
       "       False, False, False, False, False, False, False, False, False,\n",
       "       False, False, False, False, False, False, False,  True, False,\n",
       "       False, False, False, False, False], dtype=bool)"
      ]
     },
     "execution_count": 17,
     "metadata": {},
     "output_type": "execute_result"
    }
   ],
   "source": [
    "# np array of whether or not the feature is important\n",
    "feature_filter"
   ]
  },
  {
   "cell_type": "code",
   "execution_count": 18,
   "metadata": {},
   "outputs": [
    {
     "name": "stdout",
     "output_type": "stream",
     "text": [
      "Number of important features: 13\n",
      "List of important features: [48, 64, 105, 128, 241, 336, 338, 378, 442, 453, 472, 475, 493]\n"
     ]
    }
   ],
   "source": [
    "counter = -1\n",
    "important_features = []\n",
    "for i in feature_filter:\n",
    "    counter += 1\n",
    "    if i == True:\n",
    "        important_features.append(counter)\n",
    "print('Number of important features:', len(important_features))\n",
    "print('List of important features:', important_features)"
   ]
  },
  {
   "cell_type": "markdown",
   "metadata": {},
   "source": [
    "The feature selection method above is known as **univariate selection** which decides the best features by looking at how they work individually. Univariate selection does not look at how they would preform together in harmony. The weakness in the method above is collinearity. These methods are simple to run and understand and are in general particularly good for gaining a better understanding of data (but not necessarily for optimizing the feature set for better generalization).\n",
    "    \n",
    "In datasets with smaller amount of noise, the correlation is relatively strong, with a very low p-value, while in large datasets with lots of noise (like Madelon), the correlation is very small. Thus, the p-value is high meaning that it is very likely to observe such correlation is by chance."
   ]
  },
  {
   "cell_type": "code",
   "execution_count": null,
   "metadata": {
    "collapsed": true
   },
   "outputs": [],
   "source": []
  }
 ],
 "metadata": {
  "kernelspec": {
   "display_name": "Python 3",
   "language": "python",
   "name": "python3"
  },
  "language_info": {
   "codemirror_mode": {
    "name": "ipython",
    "version": 3
   },
   "file_extension": ".py",
   "mimetype": "text/x-python",
   "name": "python",
   "nbconvert_exporter": "python",
   "pygments_lexer": "ipython3",
   "version": "3.6.2"
  }
 },
 "nbformat": 4,
 "nbformat_minor": 2
}
