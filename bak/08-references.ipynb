{
 "cells": [
  {
   "cell_type": "markdown",
   "metadata": {},
   "source": [
    "<img src=\"http://imgur.com/1ZcRyrc.png\" style=\"float: left; margin: 20px; height: 55px\">\n",
    "\n",
    "# Project 3: Madelon: 8-References\n",
    "\n",
    "_Authors: Blake Cannon (DEN)_\n",
    "\n",
    "---\n",
    "MADELON is an artificial dataset, which was part of the NIPS 2003 feature selection challenge. This is a two-class classification problem with continuous input variables. The difficulty is that the problem is multivariate and highly non-linear. Among 500 attributes, only 20 are informative, the rest are noise.\n",
    "\n",
    "### Domain and Data\n",
    "\n",
    "This is the eighth in a series of Jupyter Notebooks and includes references used for the project\n"
   ]
  },
  {
   "cell_type": "markdown",
   "metadata": {},
   "source": [
    "## References\n",
    "\n",
    "* https://www.kaggle.com/transfunctioner/pca-logistic-regression-benchmark\n",
    "* http://blog.minitab.com/blog/adventures-in-statistics-2/understanding-analysis-of-variance-anova-and-the-f-test\n",
    "* http://scikit-learn.org/stable/auto_examples/feature_selection/plot_feature_selection.html\n",
    "* http://blog.datadive.net/selecting-good-features-part-i-univariate-selection/\n",
    "* http://fastml.com/madelon-spearmints-revenge/\n",
    "* Data Science from Scratch; Joel Grus, O'Reilley\n",
    "* Data Science for Business; Provost & Fawcett\n",
    "* Data Science Essentials in Python; Zinoviev\n",
    "* Regression Analysis with Python; Massacron\n",
    "* Hands-On Machine Learning with Scikit-Learn & Tensorflow; Geron\n",
    "* An Introduction to Statistical Learning; James, Witten, Hastie, Tibshiani"
   ]
  },
  {
   "cell_type": "code",
   "execution_count": null,
   "metadata": {
    "collapsed": true
   },
   "outputs": [],
   "source": []
  }
 ],
 "metadata": {
  "kernelspec": {
   "display_name": "Python 3",
   "language": "python",
   "name": "python3"
  },
  "language_info": {
   "codemirror_mode": {
    "name": "ipython",
    "version": 3
   },
   "file_extension": ".py",
   "mimetype": "text/x-python",
   "name": "python",
   "nbconvert_exporter": "python",
   "pygments_lexer": "ipython3",
   "version": "3.6.2"
  }
 },
 "nbformat": 4,
 "nbformat_minor": 2
}
