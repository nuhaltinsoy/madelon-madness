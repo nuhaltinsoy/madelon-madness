{
 "cells": [
  {
   "cell_type": "markdown",
   "metadata": {},
   "source": [
    "<img src=\"http://imgur.com/1ZcRyrc.png\" style=\"float: left; margin: 20px; height: 55px\">\n",
    "\n",
    "# Project 3: Madelon: 06-Connect to Database\n",
    "\n",
    "_Authors: Blake Cannon (DEN)_\n",
    "\n",
    "---\n",
    "MADELON is an artificial dataset, which was part of the NIPS 2003 feature selection challenge. This is a two-class classification problem with continuous input variables. The difficulty is that the problem is multivariate and highly non-linear. Among 500 attributes, only 20 are informative, the rest are noise.\n",
    "\n",
    "### Notebook 6\n",
    "\n",
    "This is the sixth Jupyter Notebook in a series and includes connecting to a remote database to analyze a dataset even larger than the UCI dataset."
   ]
  },
  {
   "cell_type": "markdown",
   "metadata": {},
   "source": [
    "## Import packages"
   ]
  },
  {
   "cell_type": "code",
   "execution_count": 1,
   "metadata": {
    "collapsed": true
   },
   "outputs": [],
   "source": [
    "import numpy as np\n",
    "import pandas as pd\n",
    "\n",
    "import psycopg2 as pg2\n",
    "\n",
    "import matplotlib.pyplot as plt\n",
    "import matplotlib as mpl\n",
    "import seaborn as sns\n",
    "sns.set_style('darkgrid')\n",
    "%matplotlib inline"
   ]
  },
  {
   "cell_type": "markdown",
   "metadata": {},
   "source": [
    "## Load Pickles"
   ]
  },
  {
   "cell_type": "code",
   "execution_count": 2,
   "metadata": {
    "collapsed": true
   },
   "outputs": [],
   "source": [
    "# Loading the data saved from the last notebook\n",
    "X_train = np.load('./_data/X_train.npy')\n",
    "y_train = np.load('./_data/y_train.npy')\n",
    "X_val = np.load('./_data/X_val.npy')\n",
    "y_val = np.load('./_data/y_val.npy')\n",
    "X_test = np.load('./_data/X_test.npy')"
   ]
  },
  {
   "cell_type": "markdown",
   "metadata": {},
   "source": [
    "## Connect to Database"
   ]
  },
  {
   "cell_type": "code",
   "execution_count": 3,
   "metadata": {
    "collapsed": true
   },
   "outputs": [],
   "source": [
    "# Connect to madelon database\n",
    "con = pg2.connect(host='34.211.227.227',\n",
    "                  dbname='postgres',\n",
    "                  user='postgres')\n",
    "cur = con.cursor()"
   ]
  },
  {
   "cell_type": "code",
   "execution_count": 4,
   "metadata": {},
   "outputs": [
    {
     "name": "stdout",
     "output_type": "stream",
     "text": [
      "[(200000,)]\n"
     ]
    }
   ],
   "source": [
    "# Print size (data) of madelon database\n",
    "cur.execute(\"SELECT COUNT(*) FROM madelon;\")\n",
    "print(cur.fetchall())"
   ]
  },
  {
   "cell_type": "code",
   "execution_count": 5,
   "metadata": {},
   "outputs": [
    {
     "name": "stdout",
     "output_type": "stream",
     "text": [
      "[('1572 MB',)]\n"
     ]
    }
   ],
   "source": [
    "# Print size (Mbytes) of madelon database\n",
    "cur.execute(\"SELECT pg_size_pretty( pg_total_relation_size('madelon') );\")\n",
    "print(cur.fetchall())"
   ]
  },
  {
   "cell_type": "code",
   "execution_count": 8,
   "metadata": {},
   "outputs": [
    {
     "data": {
      "text/plain": [
       "\"SELECT '48', '64', '105', '128', '241', '323', '336', '338', '378', '442', '453', '472', '475' FROM madelon ORDER BY Random() LIMIT 6500;\""
      ]
     },
     "execution_count": 8,
     "metadata": {},
     "output_type": "execute_result"
    }
   ],
   "source": [
    "query = \"SELECT '48', '64', '105', '128', '241', '323', '336', '338', '378', '442', '453', '472', '475' FROM madelon ORDER BY Random() LIMIT 6500;\"\n",
    "query"
   ]
  },
  {
   "cell_type": "code",
   "execution_count": 9,
   "metadata": {},
   "outputs": [],
   "source": [
    "cur.execute(query)\n",
    "db_sample = cur.fetchall()"
   ]
  },
  {
   "cell_type": "code",
   "execution_count": 10,
   "metadata": {},
   "outputs": [],
   "source": [
    "db_sample_df = pd.DataFrame(db_sample)"
   ]
  },
  {
   "cell_type": "code",
   "execution_count": null,
   "metadata": {
    "collapsed": true
   },
   "outputs": [],
   "source": [
    "# # Download sample of dataset\n",
    "# query = \"SELECT * FROM madelon ORDER BY RANDOM() LIMIT 6500\"\n",
    "# cur.execute(query)\n",
    "# db_sample = cur.fetchall()\n",
    "# db_sample_df = pd.DataFrame(db_sample)"
   ]
  },
  {
   "cell_type": "code",
   "execution_count": 22,
   "metadata": {},
   "outputs": [
    {
     "name": "stdout",
     "output_type": "stream",
     "text": [
      "(6500, 13)\n",
      "<class 'pandas.core.frame.DataFrame'>\n",
      "RangeIndex: 6500 entries, 0 to 6499\n",
      "Data columns (total 13 columns):\n",
      "0     6500 non-null object\n",
      "1     6500 non-null object\n",
      "2     6500 non-null object\n",
      "3     6500 non-null object\n",
      "4     6500 non-null object\n",
      "5     6500 non-null object\n",
      "6     6500 non-null object\n",
      "7     6500 non-null object\n",
      "8     6500 non-null object\n",
      "9     6500 non-null object\n",
      "10    6500 non-null object\n",
      "11    6500 non-null object\n",
      "12    6500 non-null object\n",
      "dtypes: object(13)\n",
      "memory usage: 660.2+ KB\n",
      "None\n"
     ]
    },
    {
     "data": {
      "text/html": [
       "<div>\n",
       "<style>\n",
       "    .dataframe thead tr:only-child th {\n",
       "        text-align: right;\n",
       "    }\n",
       "\n",
       "    .dataframe thead th {\n",
       "        text-align: left;\n",
       "    }\n",
       "\n",
       "    .dataframe tbody tr th {\n",
       "        vertical-align: top;\n",
       "    }\n",
       "</style>\n",
       "<table border=\"1\" class=\"dataframe\">\n",
       "  <thead>\n",
       "    <tr style=\"text-align: right;\">\n",
       "      <th></th>\n",
       "      <th>0</th>\n",
       "      <th>1</th>\n",
       "      <th>2</th>\n",
       "      <th>3</th>\n",
       "      <th>4</th>\n",
       "      <th>5</th>\n",
       "      <th>6</th>\n",
       "      <th>7</th>\n",
       "      <th>8</th>\n",
       "      <th>9</th>\n",
       "      <th>10</th>\n",
       "      <th>11</th>\n",
       "      <th>12</th>\n",
       "    </tr>\n",
       "  </thead>\n",
       "  <tbody>\n",
       "    <tr>\n",
       "      <th>0</th>\n",
       "      <td>48</td>\n",
       "      <td>64</td>\n",
       "      <td>105</td>\n",
       "      <td>128</td>\n",
       "      <td>241</td>\n",
       "      <td>323</td>\n",
       "      <td>336</td>\n",
       "      <td>338</td>\n",
       "      <td>378</td>\n",
       "      <td>442</td>\n",
       "      <td>453</td>\n",
       "      <td>472</td>\n",
       "      <td>475</td>\n",
       "    </tr>\n",
       "    <tr>\n",
       "      <th>1</th>\n",
       "      <td>48</td>\n",
       "      <td>64</td>\n",
       "      <td>105</td>\n",
       "      <td>128</td>\n",
       "      <td>241</td>\n",
       "      <td>323</td>\n",
       "      <td>336</td>\n",
       "      <td>338</td>\n",
       "      <td>378</td>\n",
       "      <td>442</td>\n",
       "      <td>453</td>\n",
       "      <td>472</td>\n",
       "      <td>475</td>\n",
       "    </tr>\n",
       "    <tr>\n",
       "      <th>2</th>\n",
       "      <td>48</td>\n",
       "      <td>64</td>\n",
       "      <td>105</td>\n",
       "      <td>128</td>\n",
       "      <td>241</td>\n",
       "      <td>323</td>\n",
       "      <td>336</td>\n",
       "      <td>338</td>\n",
       "      <td>378</td>\n",
       "      <td>442</td>\n",
       "      <td>453</td>\n",
       "      <td>472</td>\n",
       "      <td>475</td>\n",
       "    </tr>\n",
       "    <tr>\n",
       "      <th>3</th>\n",
       "      <td>48</td>\n",
       "      <td>64</td>\n",
       "      <td>105</td>\n",
       "      <td>128</td>\n",
       "      <td>241</td>\n",
       "      <td>323</td>\n",
       "      <td>336</td>\n",
       "      <td>338</td>\n",
       "      <td>378</td>\n",
       "      <td>442</td>\n",
       "      <td>453</td>\n",
       "      <td>472</td>\n",
       "      <td>475</td>\n",
       "    </tr>\n",
       "    <tr>\n",
       "      <th>4</th>\n",
       "      <td>48</td>\n",
       "      <td>64</td>\n",
       "      <td>105</td>\n",
       "      <td>128</td>\n",
       "      <td>241</td>\n",
       "      <td>323</td>\n",
       "      <td>336</td>\n",
       "      <td>338</td>\n",
       "      <td>378</td>\n",
       "      <td>442</td>\n",
       "      <td>453</td>\n",
       "      <td>472</td>\n",
       "      <td>475</td>\n",
       "    </tr>\n",
       "  </tbody>\n",
       "</table>\n",
       "</div>"
      ],
      "text/plain": [
       "   0   1    2    3    4    5    6    7    8    9    10   11   12\n",
       "0  48  64  105  128  241  323  336  338  378  442  453  472  475\n",
       "1  48  64  105  128  241  323  336  338  378  442  453  472  475\n",
       "2  48  64  105  128  241  323  336  338  378  442  453  472  475\n",
       "3  48  64  105  128  241  323  336  338  378  442  453  472  475\n",
       "4  48  64  105  128  241  323  336  338  378  442  453  472  475"
      ]
     },
     "execution_count": 22,
     "metadata": {},
     "output_type": "execute_result"
    }
   ],
   "source": [
    "print(db_sample_df.shape)\n",
    "print(db_sample_df.info())\n",
    "db_sample_df.head()"
   ]
  },
  {
   "cell_type": "code",
   "execution_count": 12,
   "metadata": {
    "collapsed": true
   },
   "outputs": [],
   "source": [
    "db_sample_np = db_sample_df.as_matrix(columns=None)"
   ]
  },
  {
   "cell_type": "code",
   "execution_count": 13,
   "metadata": {},
   "outputs": [
    {
     "data": {
      "text/plain": [
       "array([['48', '64', '105', ..., '453', '472', '475'],\n",
       "       ['48', '64', '105', ..., '453', '472', '475'],\n",
       "       ['48', '64', '105', ..., '453', '472', '475'],\n",
       "       ..., \n",
       "       ['48', '64', '105', ..., '453', '472', '475'],\n",
       "       ['48', '64', '105', ..., '453', '472', '475'],\n",
       "       ['48', '64', '105', ..., '453', '472', '475']], dtype=object)"
      ]
     },
     "execution_count": 13,
     "metadata": {},
     "output_type": "execute_result"
    }
   ],
   "source": [
    "db_sample_np"
   ]
  },
  {
   "cell_type": "code",
   "execution_count": 17,
   "metadata": {
    "collapsed": true
   },
   "outputs": [],
   "source": [
    "# Pickle np.array\n",
    "np.save('./_data/db_sample_np', db_sample_np)"
   ]
  },
  {
   "cell_type": "code",
   "execution_count": 18,
   "metadata": {},
   "outputs": [],
   "source": [
    "pickle_test = np.load('./_data/db_sample_np.npy')"
   ]
  },
  {
   "cell_type": "code",
   "execution_count": 19,
   "metadata": {},
   "outputs": [
    {
     "data": {
      "text/plain": [
       "(6500, 13)"
      ]
     },
     "execution_count": 19,
     "metadata": {},
     "output_type": "execute_result"
    }
   ],
   "source": [
    "pickle_test.shape"
   ]
  },
  {
   "cell_type": "code",
   "execution_count": 20,
   "metadata": {},
   "outputs": [
    {
     "data": {
      "text/plain": [
       "array(['475', '475', '475', ..., '475', '475', '475'], dtype=object)"
      ]
     },
     "execution_count": 20,
     "metadata": {},
     "output_type": "execute_result"
    }
   ],
   "source": [
    "pickle_test[:,-1]"
   ]
  },
  {
   "cell_type": "code",
   "execution_count": null,
   "metadata": {
    "collapsed": true
   },
   "outputs": [],
   "source": []
  }
 ],
 "metadata": {
  "kernelspec": {
   "display_name": "Python 3",
   "language": "python",
   "name": "python3"
  },
  "language_info": {
   "codemirror_mode": {
    "name": "ipython",
    "version": 3
   },
   "file_extension": ".py",
   "mimetype": "text/x-python",
   "name": "python",
   "nbconvert_exporter": "python",
   "pygments_lexer": "ipython3",
   "version": "3.6.2"
  }
 },
 "nbformat": 4,
 "nbformat_minor": 2
}
